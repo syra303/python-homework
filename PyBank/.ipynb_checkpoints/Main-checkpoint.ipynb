{
 "cells": [
  {
   "cell_type": "code",
   "execution_count": 1,
   "id": "local-livestock",
   "metadata": {},
   "outputs": [],
   "source": [
    "#Import the pathlib and csv library and set the file path using variable csvpath\n",
    "from pathlib import Path\n",
    "import csv\n",
    "\n",
    "csvpath = Path(\"budget_data.csv\")"
   ]
  },
  {
   "cell_type": "code",
   "execution_count": 2,
   "id": "suspended-builder",
   "metadata": {},
   "outputs": [],
   "source": [
    "# Initialize empty lists and vairables\n",
    "total_months = 0\n",
    "total_net = 0\n",
    "net_change_list = []\n",
    "greatest_increase = [\"\",0]\n",
    "greatest_decrease = [\"\", 99999999]"
   ]
  },
  {
   "cell_type": "code",
   "execution_count": 9,
   "id": "upset-draft",
   "metadata": {},
   "outputs": [],
   "source": [
    "# Open the input path as a file object\n",
    "with open(csvpath, 'r') as csvfile:\n",
    "\n",
    "    # Return the csvreader object by passing the csvfile to the csv.reader() and set ',' as the delmiter \n",
    "    csvreader = csv.reader(csvfile, delimiter=',')\n",
    "\n",
    "   # Set and print header \n",
    "    header = next(csvreader) \n",
    "    \n",
    "    #set header, months variable, total net pnl and previous net pnl with row[1] in a list to satisfy net changes.\n",
    "    first_row = next(csvreader)\n",
    "    total_months = total_months + 1\n",
    "    total_net = total_net + int(first_row[1])\n",
    "    prev_net = int(first_row[1])\n",
    "\n",
    "   #iterate through months and pnl\n",
    "    for row in csvreader:\n",
    "        total_months = total_months + 1\n",
    "        total_net = total_net + int(row[1])\n",
    "        \n",
    "        \n",
    "        #create a new list for net change, and a new list holding difference of net change and prev change\n",
    "        net_change = int(row[1]) - prev_net\n",
    "        prev_net = int(row[1])\n",
    "        net_change_list = net_change_list + [net_change]\n",
    "        \n",
    "        #logic for adding items in greatest_increase and greatest_decrease\n",
    "        if net_change > greatest_increase[1]:\n",
    "            greatest_increase[0] = row[0]\n",
    "            greatest_increase[1] = net_change\n",
    "            \n",
    "        if net_change < greatest_decrease[1]:\n",
    "            greatest_decrease[0] = row[0]\n",
    "            greatest_decrease[1] = net_change\n",
    "    "
   ]
  },
  {
   "cell_type": "code",
   "execution_count": 4,
   "id": "funky-robin",
   "metadata": {},
   "outputs": [
    {
     "name": "stdout",
     "output_type": "stream",
     "text": [
      "---------Financial Analysis----------\n",
      "Total Months: 86\n",
      "Net Total PNL: $38382578\n",
      "Average Change: -2315.1176470588234\n",
      "Greatest Increase: $['Feb-2012', 1926159]\n",
      "Greatest Decrease: $['Sep-2013', -2196167]\n"
     ]
    }
   ],
   "source": [
    "# Prtint analysis\n",
    "print(\"---------Financial Analysis----------\")\n",
    "print(f\"Total Months: {total_months}\")\n",
    "print(f\"Net Total PNL: ${total_net}\")\n",
    "print(f\"Average Change: {sum(net_change_list)/len(net_change_list)}\")\n",
    "print(f\"Greatest Increase: ${greatest_increase}\")\n",
    "print(f\"Greatest Decrease: ${greatest_decrease}\")"
   ]
  },
  {
   "cell_type": "code",
   "execution_count": 5,
   "id": "protecting-summary",
   "metadata": {},
   "outputs": [],
   "source": [
    "# Create output file containing Financial Analysis\n",
    "output_file = Path(\"output.txt\")"
   ]
  },
  {
   "cell_type": "code",
   "execution_count": 6,
   "id": "secure-billion",
   "metadata": {},
   "outputs": [],
   "source": [
    "with open(\"output.txt\", \"w\") as text_file:\n",
    "    text_file.write(f\"Financial Analysis\\n\")\n",
    "    text_file.write(f\"Total Months: {total_months}\\n\")\n",
    "    text_file.write(f\"Net Total PNL: ${total_net}\\n\")\n",
    "    text_file.write(f\"Average Change: {sum(net_change_list)/len(net_change_list)}\\n\")\n",
    "    text_file.write(f\"Greatest Increase: ${greatest_increase}\\n\")\n",
    "    text_file.write(f\"Greatest Decrease: ${greatest_decrease}\\n\")"
   ]
  },
  {
   "cell_type": "code",
   "execution_count": null,
   "id": "initial-jewel",
   "metadata": {},
   "outputs": [],
   "source": []
  },
  {
   "cell_type": "code",
   "execution_count": null,
   "id": "demanding-wilderness",
   "metadata": {},
   "outputs": [],
   "source": []
  }
 ],
 "metadata": {
  "kernelspec": {
   "display_name": "Python 3",
   "language": "python",
   "name": "python3"
  },
  "language_info": {
   "codemirror_mode": {
    "name": "ipython",
    "version": 3
   },
   "file_extension": ".py",
   "mimetype": "text/x-python",
   "name": "python",
   "nbconvert_exporter": "python",
   "pygments_lexer": "ipython3",
   "version": "3.8.5"
  }
 },
 "nbformat": 4,
 "nbformat_minor": 5
}
